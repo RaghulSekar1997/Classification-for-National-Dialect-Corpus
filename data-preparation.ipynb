{
 "cells": [
  {
   "cell_type": "code",
   "execution_count": 1,
   "id": "expressed-merit",
   "metadata": {
    "ExecuteTime": {
     "end_time": "2021-04-16T10:48:14.631551Z",
     "start_time": "2021-04-16T10:46:49.792383Z"
    }
   },
   "outputs": [],
   "source": [
    "import numpy as np\n",
    "import pandas as pd\n",
    "import nltk\n",
    "from nltk.corpus import stopwords\n",
    "import re, os, codecs\n",
    "from collections import Counter\n",
    "from bs4 import BeautifulSoup\n",
    "from glob import glob\n",
    "import json\n",
    "from wordcloud import WordCloud\n",
    "import matplotlib.pyplot as plt\n",
    "%matplotlib inline"
   ]
  },
  {
   "cell_type": "code",
   "execution_count": 83,
   "id": "imposed-lying",
   "metadata": {
    "ExecuteTime": {
     "end_time": "2021-04-04T15:21:46.636942Z",
     "start_time": "2021-04-04T15:21:44.295576Z"
    }
   },
   "outputs": [
    {
     "name": "stdout",
     "output_type": "stream",
     "text": [
      "Working on AR\n",
      "\tSize of Dataset: 3008\n",
      "Working on CO\n",
      "\tSize of Dataset: 2860\n",
      "Working on CU\n",
      "\tSize of Dataset: 2261\n",
      "Working on MX\n",
      "\tSize of Dataset: 2258\n",
      "Working on PE\n",
      "\tSize of Dataset: 3323\n",
      "Working on SV\n",
      "\tSize of Dataset: 2853\n"
     ]
    }
   ],
   "source": [
    "dataset_df = pd.DataFrame([], columns=['Sentences', 'Dialect'])\n",
    "\n",
    "for file in glob('./corpus/*.txt'):\n",
    "    dialect = os.path.splitext(file)[0][-2:]\n",
    "    print(f'Working on {dialect}')\n",
    "    with open(file, 'r', encoding='utf') as f:\n",
    "        raw_text = f.read()\n",
    "    \n",
    "    # removing html tags\n",
    "    clean_text = BeautifulSoup(raw_text).get_text()\n",
    "    # Tokenizing sentences\n",
    "    sentences = nltk.tokenize.sent_tokenize(clean_text)\n",
    "    dataset = []\n",
    "    for line in sentences:\n",
    "        line = re.sub(r'(?:(?:https?|ftp):\\/\\/)?[\\w/\\-?=%.]+\\.[\\w/\\-&?=%.]+', '', line) # Removing urls\n",
    "        line = re.sub(r\"[-()\\\"#/@;:<>{}`+=~|.!?,_]\", \"\", line) # Removing punctuations\n",
    "        line = re.sub(r\"[0-9]+\", \"\", line) # Removing Numbers\n",
    "        new_line = []\n",
    "        if len(line.split()) > 5:\n",
    "            dataset.append(' '.join(list(map(str.lower, line.split())))) # lowercasing all the text in the sentence\n",
    "\n",
    "    # Dropping duplicates\n",
    "    dataset = list((set(dataset)))\n",
    "    # Creating labels same length as of our dataset\n",
    "    labels = [dialect] * len(dataset)\n",
    "    print('\\tSize of Dataset:', len(dataset))\n",
    "    # Save it in dataframe\n",
    "    df = pd.DataFrame()\n",
    "    df['Sentences'] = dataset\n",
    "    df['Dialect'] = labels\n",
    "    \n",
    "    # Append to main dataset\n",
    "    dataset_df = dataset_df.append(df)"
   ]
  },
  {
   "cell_type": "code",
   "execution_count": 85,
   "id": "soviet-highlight",
   "metadata": {
    "ExecuteTime": {
     "end_time": "2021-04-04T15:22:52.014221Z",
     "start_time": "2021-04-04T15:22:51.751978Z"
    }
   },
   "outputs": [],
   "source": [
    "dataset_df.to_csv('spanish_dialects_dataset.csv', index=False)"
   ]
  },
  {
   "cell_type": "code",
   "execution_count": 2,
   "id": "nutritional-function",
   "metadata": {
    "ExecuteTime": {
     "end_time": "2021-04-16T10:48:15.778421Z",
     "start_time": "2021-04-16T10:48:14.636638Z"
    }
   },
   "outputs": [
    {
     "data": {
      "text/html": [
       "<div>\n",
       "<style scoped>\n",
       "    .dataframe tbody tr th:only-of-type {\n",
       "        vertical-align: middle;\n",
       "    }\n",
       "\n",
       "    .dataframe tbody tr th {\n",
       "        vertical-align: top;\n",
       "    }\n",
       "\n",
       "    .dataframe thead th {\n",
       "        text-align: right;\n",
       "    }\n",
       "</style>\n",
       "<table border=\"1\" class=\"dataframe\">\n",
       "  <thead>\n",
       "    <tr style=\"text-align: right;\">\n",
       "      <th></th>\n",
       "      <th>Sentences</th>\n",
       "      <th>Dialect</th>\n",
       "    </tr>\n",
       "  </thead>\n",
       "  <tbody>\n",
       "    <tr>\n",
       "      <th>0</th>\n",
       "      <td>al igual que en el yoga artístico se compite i...</td>\n",
       "      <td>AR</td>\n",
       "    </tr>\n",
       "    <tr>\n",
       "      <th>1</th>\n",
       "      <td>sufrió un penal de jacquet por agarrón que el ...</td>\n",
       "      <td>AR</td>\n",
       "    </tr>\n",
       "    <tr>\n",
       "      <th>2</th>\n",
       "      <td>nosotros le damos la confianza que necesita cu...</td>\n",
       "      <td>AR</td>\n",
       "    </tr>\n",
       "    <tr>\n",
       "      <th>3</th>\n",
       "      <td>dt fernando batista hoy estuvo en el banco su ...</td>\n",
       "      <td>AR</td>\n",
       "    </tr>\n",
       "    <tr>\n",
       "      <th>4</th>\n",
       "      <td>los jueces son informados si el competidor est...</td>\n",
       "      <td>AR</td>\n",
       "    </tr>\n",
       "  </tbody>\n",
       "</table>\n",
       "</div>"
      ],
      "text/plain": [
       "                                           Sentences Dialect\n",
       "0  al igual que en el yoga artístico se compite i...      AR\n",
       "1  sufrió un penal de jacquet por agarrón que el ...      AR\n",
       "2  nosotros le damos la confianza que necesita cu...      AR\n",
       "3  dt fernando batista hoy estuvo en el banco su ...      AR\n",
       "4  los jueces son informados si el competidor est...      AR"
      ]
     },
     "execution_count": 2,
     "metadata": {},
     "output_type": "execute_result"
    }
   ],
   "source": [
    "df = pd.read_csv('spanish_dialects_dataset.csv')\n",
    "df.head()"
   ]
  }
 ],
 "metadata": {
  "kernelspec": {
   "display_name": "Python 3",
   "language": "python",
   "name": "python3"
  },
  "language_info": {
   "codemirror_mode": {
    "name": "ipython",
    "version": 3
   },
   "file_extension": ".py",
   "mimetype": "text/x-python",
   "name": "python",
   "nbconvert_exporter": "python",
   "pygments_lexer": "ipython3",
   "version": "3.8.5"
  }
 },
 "nbformat": 4,
 "nbformat_minor": 5
}
